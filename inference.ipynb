{
 "cells": [
  {
   "cell_type": "code",
   "execution_count": 1,
   "metadata": {},
   "outputs": [
    {
     "name": "stderr",
     "output_type": "stream",
     "text": [
      "/home/meliioko/mlops/.venv/lib/python3.10/site-packages/tqdm/auto.py:21: TqdmWarning: IProgress not found. Please update jupyter and ipywidgets. See https://ipywidgets.readthedocs.io/en/stable/user_install.html\n",
      "  from .autonotebook import tqdm as notebook_tqdm\n",
      "Downloading artifacts: 100%|██████████| 6/6 [00:08<00:00,  1.37s/it]   \n",
      "2024/01/21 17:24:43 WARNING mlflow.pytorch: Stored model version '2.1.0+cu121' does not match installed PyTorch version '2.1.2+cu121'\n"
     ]
    }
   ],
   "source": [
    "import mlflow\n",
    "import torch\n",
    "\n",
    "path = 'dbfs:/databricks/mlflow-tracking/2713494469571469/672969b1bd224ad49cd2c0853ea51a80/artifacts/model/'\n",
    "test = mlflow.pytorch.load_model(path)\n"
   ]
  },
  {
   "cell_type": "code",
   "execution_count": 4,
   "metadata": {},
   "outputs": [],
   "source": [
    "from datasets import load_dataset\n",
    "\n",
    "ds = load_dataset(\"Bingsu/Human_Action_Recognition\")\n"
   ]
  },
  {
   "cell_type": "code",
   "execution_count": 56,
   "metadata": {},
   "outputs": [],
   "source": [
    "from torch import nn\n",
    "from torch.utils.data import DataLoader, random_split\n",
    "from torchvision import models\n",
    "import pytorch_lightning as pl\n",
    "import numpy as np\n",
    "from torchvision.transforms import v2\n",
    "class ResNetModel(pl.LightningModule):\n",
    "    def __init__(self, num_classes):\n",
    "        super().__init__()\n",
    "        self.model = models.resnet50(pretrained=True)\n",
    "        for param in self.model.parameters():\n",
    "            param.requires_grad = False\n",
    "        self.model.fc = nn.Linear(self.model.fc.in_features, num_classes)\n",
    "        self.loss = nn.CrossEntropyLoss()\n",
    "        self.val_losses = []\n",
    "        self.val_accs = []\n",
    "        self.epoch = 0\n",
    "        self.transform = v2.Compose([\n",
    "            v2.ToTensor(),\n",
    "            v2.ToDtype(torch.uint8, scale=True),  # optional, most input are already uint8 at this point\n",
    "            v2.Resize(size=(224, 224), antialias=True),\n",
    "            v2.ToDtype(torch.float32, scale=True),\n",
    "            v2.Normalize(mean=[0.485, 0.456, 0.406], std=[0.229, 0.224, 0.225]),\n",
    "        ])\n",
    "\n",
    "    def forward(self, x):\n",
    "        return self.model(x)\n",
    "\n",
    "    def predict_step(self, batch, batch_idx, dataloader_idx=0):\n",
    "        out = self(batch)\n",
    "        return torch.argmax(out, dim=1).tolist()\n",
    "\n",
    "\n",
    "    def training_step(self, batch, batch_idx):\n",
    "        images, labels = batch[0], batch[1]\n",
    "        outputs = self(images)\n",
    "        loss = self.loss(outputs, labels)\n",
    "        return loss\n",
    "\n",
    "    def validation_step(self, batch, batch_idx):\n",
    "        images, labels = batch[0], batch[1]\n",
    "        outputs = self(images)\n",
    "        loss = self.loss(outputs, labels)\n",
    "\n",
    "        labels_hat = torch.argmax(outputs, dim=1)\n",
    "        val_acc = torch.sum(labels == labels_hat).item() / (len(labels) * 1.0)\n",
    "        self.val_accs.append(val_acc)\n",
    "        self.val_losses.append(loss.item())\n",
    "       \n",
    "      \n",
    "    def on_validation_epoch_end(self):\n",
    "        acc = np.mean(self.val_accs)\n",
    "        print(f\"Val acc:{acc}\")\n",
    "        loss = np.mean(self.val_losses)\n",
    "        self.log(f'val_acc_{self.epoch}', acc)\n",
    "        self.log(f'val_loss_{self.epoch}', loss)\n",
    "        self.epoch += 1\n",
    "\n",
    "    def test_step(self, batch, batch_idx):\n",
    "      x, y = batch\n",
    "\n",
    "      # implement your own\n",
    "      out = self(x)\n",
    "      loss = self.loss(out, y)\n",
    "\n",
    "\n",
    "      # calculate acc\n",
    "      labels_hat = torch.argmax(out, dim=1)\n",
    "      test_acc = torch.sum(y == labels_hat).item() / (len(y) * 1.0)\n",
    "\n",
    "      # log the outputs!\n",
    "\n",
    "    def configure_optimizers(self):\n",
    "        optimizer = torch.optim.Adam(self.model.parameters(), lr=1e-3)\n",
    "        return optimizer\n"
   ]
  },
  {
   "cell_type": "code",
   "execution_count": 57,
   "metadata": {},
   "outputs": [
    {
     "data": {
      "text/plain": [
       "<All keys matched successfully>"
      ]
     },
     "execution_count": 57,
     "metadata": {},
     "output_type": "execute_result"
    }
   ],
   "source": [
    "model = ResNetModel(15)\n",
    "\n",
    "model.load_state_dict(test.state_dict())"
   ]
  },
  {
   "cell_type": "code",
   "execution_count": 60,
   "metadata": {},
   "outputs": [],
   "source": [
    "from torch.utils.data import DataLoader\n",
    "import torch\n",
    "from torchvision.transforms import v2\n",
    "{\n",
    "    'calling': 0,\n",
    "    'clapping': 1,\n",
    "    'cycling': 2,\n",
    "    'dancing': 3,\n",
    "    'drinking': 4,\n",
    "    'eating': 5,\n",
    "    'fighting': 6,\n",
    "    'hugging': 7,\n",
    "    'laughing': 8,\n",
    "    'listening_to_music': 9,\n",
    "    'running': 10,\n",
    "    'sitting': 11,\n",
    "    'sleeping': 12,\n",
    "    'texting': 13,\n",
    "    'using_laptop': 14\n",
    "}\n",
    "\n",
    "def inference(images, model):\n",
    "    labels = ['calling', 'clapping','cycling', 'dancing', 'drinking', 'eating', 'fighting', 'hugging', 'laughing', 'listening_to_music', 'running',\n",
    "              'sitting', 'sleeping', 'texting', 'using_laptop']\n",
    "    transform = v2.Compose([\n",
    "            v2.ToTensor(),\n",
    "            v2.ToDtype(torch.uint8, scale=True),\n",
    "            v2.Resize(size=(224, 224), antialias=True),\n",
    "            v2.ToDtype(torch.float32, scale=True),\n",
    "            v2.Normalize(mean=[0.485, 0.456, 0.406], std=[0.229, 0.224, 0.225]),\n",
    "        ])\n",
    "    data = DataLoader([transform(image) for image in images], batch_size=32, shuffle=True)\n",
    "    trainer = pl.Trainer()\n",
    "    outputs = trainer.predict(model, data)\n",
    "    predicted_labels = []\n",
    "    for label_index in outputs[0]:\n",
    "        label = labels[label_index]\n",
    "        predicted_labels.append(label)\n",
    "\n",
    "    return predicted_labels"
   ]
  },
  {
   "cell_type": "code",
   "execution_count": null,
   "metadata": {},
   "outputs": [],
   "source": []
  },
  {
   "cell_type": "code",
   "execution_count": null,
   "metadata": {},
   "outputs": [],
   "source": []
  }
 ],
 "metadata": {
  "kernelspec": {
   "display_name": ".venv",
   "language": "python",
   "name": "python3"
  },
  "language_info": {
   "codemirror_mode": {
    "name": "ipython",
    "version": 3
   },
   "file_extension": ".py",
   "mimetype": "text/x-python",
   "name": "python",
   "nbconvert_exporter": "python",
   "pygments_lexer": "ipython3",
   "version": "3.10.12"
  }
 },
 "nbformat": 4,
 "nbformat_minor": 2
}
